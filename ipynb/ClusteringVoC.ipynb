{
 "cells": [
  {
   "cell_type": "markdown",
   "id": "145f524f-7db8-48f3-a4af-2a8fbeed4491",
   "metadata": {},
   "source": [
    "# Clustering VoC\n",
    "\n",
    "Date: 2025/5/7\n",
    "\n",
    "Reference: https://cookbook.openai.com/examples/clustering"
   ]
  },
  {
   "cell_type": "markdown",
   "id": "dbc815fc-c5b7-4fb8-b681-9981f427c40c",
   "metadata": {},
   "source": [
    "## Dataset (CC0 license)\n",
    "\n",
    "DATASET: Digital Voice-of-Customer on sharing mobility services\n",
    "\n",
    "https://dataverse.harvard.edu/dataset.xhtml?persistentId=doi:10.7910/DVN/JXK3Z8\n",
    "\n",
    "Publication: MOBI-Qual: a common framework to manage the product-service system quality of shared mobility\n",
    "\n",
    "https://link.springer.com/article/10.1007/s10696-023-09520-y"
   ]
  },
  {
   "cell_type": "code",
   "execution_count": 1,
   "id": "0e7776d4-6391-4700-b13b-5ede7556018b",
   "metadata": {},
   "outputs": [],
   "source": [
    "DATA_PATH = \"dataset/Digital VoC Dataset.xlsx\""
   ]
  },
  {
   "cell_type": "code",
   "execution_count": 2,
   "id": "206cc920-e83e-4ee0-8ee5-21668cdd0ff2",
   "metadata": {},
   "outputs": [
    {
     "data": {
      "text/html": [
       "<div>\n",
       "<style scoped>\n",
       "    .dataframe tbody tr th:only-of-type {\n",
       "        vertical-align: middle;\n",
       "    }\n",
       "\n",
       "    .dataframe tbody tr th {\n",
       "        vertical-align: top;\n",
       "    }\n",
       "\n",
       "    .dataframe thead th {\n",
       "        text-align: right;\n",
       "    }\n",
       "</style>\n",
       "<table border=\"1\" class=\"dataframe\">\n",
       "  <thead>\n",
       "    <tr style=\"text-align: right;\">\n",
       "      <th></th>\n",
       "      <th>ID</th>\n",
       "      <th>Fonte</th>\n",
       "      <th>Country</th>\n",
       "      <th>Provider</th>\n",
       "      <th>Type</th>\n",
       "      <th>Data</th>\n",
       "      <th>Rating</th>\n",
       "      <th>Review</th>\n",
       "    </tr>\n",
       "  </thead>\n",
       "  <tbody>\n",
       "    <tr>\n",
       "      <th>0</th>\n",
       "      <td>1</td>\n",
       "      <td>Yelp!</td>\n",
       "      <td>UNITED STATES</td>\n",
       "      <td>Zipcar</td>\n",
       "      <td>Station based</td>\n",
       "      <td>38749</td>\n",
       "      <td>5</td>\n",
       "      <td>Did you know you can make a zipcar reservation...</td>\n",
       "    </tr>\n",
       "    <tr>\n",
       "      <th>1</th>\n",
       "      <td>2</td>\n",
       "      <td>Yelp!</td>\n",
       "      <td>UNITED STATES</td>\n",
       "      <td>Zipcar</td>\n",
       "      <td>Station based</td>\n",
       "      <td>38749</td>\n",
       "      <td>5</td>\n",
       "      <td>I've been meaning to write up Zipcar for a whi...</td>\n",
       "    </tr>\n",
       "    <tr>\n",
       "      <th>2</th>\n",
       "      <td>3</td>\n",
       "      <td>Yelp!</td>\n",
       "      <td>UNITED STATES</td>\n",
       "      <td>Zipcar</td>\n",
       "      <td>Station based</td>\n",
       "      <td>38749</td>\n",
       "      <td>4</td>\n",
       "      <td>EDIT 2/21: After a slightly messy first Zipcar...</td>\n",
       "    </tr>\n",
       "    <tr>\n",
       "      <th>3</th>\n",
       "      <td>4</td>\n",
       "      <td>Yelp!</td>\n",
       "      <td>UNITED STATES</td>\n",
       "      <td>Zipcar</td>\n",
       "      <td>Station based</td>\n",
       "      <td>38749</td>\n",
       "      <td>5</td>\n",
       "      <td>I love Zipcar   I have be a pround member sinc...</td>\n",
       "    </tr>\n",
       "    <tr>\n",
       "      <th>4</th>\n",
       "      <td>5</td>\n",
       "      <td>Yelp!</td>\n",
       "      <td>UNITED STATES</td>\n",
       "      <td>Zipcar</td>\n",
       "      <td>Station based</td>\n",
       "      <td>38777</td>\n",
       "      <td>5</td>\n",
       "      <td>Flexcar is the answer for those of us that are...</td>\n",
       "    </tr>\n",
       "  </tbody>\n",
       "</table>\n",
       "</div>"
      ],
      "text/plain": [
       "   ID  Fonte         Country Provider           Type   Data  Rating  \\\n",
       "0   1  Yelp!  UNITED STATES    Zipcar  Station based  38749       5   \n",
       "1   2  Yelp!  UNITED STATES    Zipcar  Station based  38749       5   \n",
       "2   3  Yelp!  UNITED STATES    Zipcar  Station based  38749       4   \n",
       "3   4  Yelp!  UNITED STATES    Zipcar  Station based  38749       5   \n",
       "4   5  Yelp!  UNITED STATES    Zipcar  Station based  38777       5   \n",
       "\n",
       "                                              Review  \n",
       "0  Did you know you can make a zipcar reservation...  \n",
       "1  I've been meaning to write up Zipcar for a whi...  \n",
       "2  EDIT 2/21: After a slightly messy first Zipcar...  \n",
       "3  I love Zipcar   I have be a pround member sinc...  \n",
       "4  Flexcar is the answer for those of us that are...  "
      ]
     },
     "execution_count": 2,
     "metadata": {},
     "output_type": "execute_result"
    }
   ],
   "source": [
    "import pandas as pd\n",
    "\n",
    "df = pd.read_excel(DATA_PATH)\n",
    "df.head()"
   ]
  },
  {
   "cell_type": "code",
   "execution_count": 3,
   "id": "c228d92e-6ddf-4f9d-9e88-4b4ec6882e4e",
   "metadata": {},
   "outputs": [
    {
     "data": {
      "text/plain": [
       "11127"
      ]
     },
     "execution_count": 3,
     "metadata": {},
     "output_type": "execute_result"
    }
   ],
   "source": [
    "len(df)"
   ]
  },
  {
   "cell_type": "code",
   "execution_count": 4,
   "id": "fec68ef6-5223-43c5-9f13-4451be9c82a2",
   "metadata": {},
   "outputs": [
    {
     "data": {
      "text/html": [
       "<div>\n",
       "<style scoped>\n",
       "    .dataframe tbody tr th:only-of-type {\n",
       "        vertical-align: middle;\n",
       "    }\n",
       "\n",
       "    .dataframe tbody tr th {\n",
       "        vertical-align: top;\n",
       "    }\n",
       "\n",
       "    .dataframe thead th {\n",
       "        text-align: right;\n",
       "    }\n",
       "</style>\n",
       "<table border=\"1\" class=\"dataframe\">\n",
       "  <thead>\n",
       "    <tr style=\"text-align: right;\">\n",
       "      <th></th>\n",
       "      <th>ID</th>\n",
       "      <th>Source</th>\n",
       "      <th>Country</th>\n",
       "      <th>Provider</th>\n",
       "      <th>Type</th>\n",
       "      <th>Data</th>\n",
       "      <th>Rating</th>\n",
       "      <th>Review</th>\n",
       "    </tr>\n",
       "  </thead>\n",
       "  <tbody>\n",
       "    <tr>\n",
       "      <th>0</th>\n",
       "      <td>1</td>\n",
       "      <td>Yelp!</td>\n",
       "      <td>UNITED STATES</td>\n",
       "      <td>Zipcar</td>\n",
       "      <td>Station based</td>\n",
       "      <td>38749</td>\n",
       "      <td>5</td>\n",
       "      <td>Did you know you can make a zipcar reservation...</td>\n",
       "    </tr>\n",
       "    <tr>\n",
       "      <th>1</th>\n",
       "      <td>2</td>\n",
       "      <td>Yelp!</td>\n",
       "      <td>UNITED STATES</td>\n",
       "      <td>Zipcar</td>\n",
       "      <td>Station based</td>\n",
       "      <td>38749</td>\n",
       "      <td>5</td>\n",
       "      <td>I've been meaning to write up Zipcar for a whi...</td>\n",
       "    </tr>\n",
       "    <tr>\n",
       "      <th>2</th>\n",
       "      <td>3</td>\n",
       "      <td>Yelp!</td>\n",
       "      <td>UNITED STATES</td>\n",
       "      <td>Zipcar</td>\n",
       "      <td>Station based</td>\n",
       "      <td>38749</td>\n",
       "      <td>4</td>\n",
       "      <td>EDIT 2/21: After a slightly messy first Zipcar...</td>\n",
       "    </tr>\n",
       "    <tr>\n",
       "      <th>3</th>\n",
       "      <td>4</td>\n",
       "      <td>Yelp!</td>\n",
       "      <td>UNITED STATES</td>\n",
       "      <td>Zipcar</td>\n",
       "      <td>Station based</td>\n",
       "      <td>38749</td>\n",
       "      <td>5</td>\n",
       "      <td>I love Zipcar   I have be a pround member sinc...</td>\n",
       "    </tr>\n",
       "    <tr>\n",
       "      <th>4</th>\n",
       "      <td>5</td>\n",
       "      <td>Yelp!</td>\n",
       "      <td>UNITED STATES</td>\n",
       "      <td>Zipcar</td>\n",
       "      <td>Station based</td>\n",
       "      <td>38777</td>\n",
       "      <td>5</td>\n",
       "      <td>Flexcar is the answer for those of us that are...</td>\n",
       "    </tr>\n",
       "  </tbody>\n",
       "</table>\n",
       "</div>"
      ],
      "text/plain": [
       "   ID Source         Country Provider           Type   Data  Rating  \\\n",
       "0   1  Yelp!  UNITED STATES    Zipcar  Station based  38749       5   \n",
       "1   2  Yelp!  UNITED STATES    Zipcar  Station based  38749       5   \n",
       "2   3  Yelp!  UNITED STATES    Zipcar  Station based  38749       4   \n",
       "3   4  Yelp!  UNITED STATES    Zipcar  Station based  38749       5   \n",
       "4   5  Yelp!  UNITED STATES    Zipcar  Station based  38777       5   \n",
       "\n",
       "                                              Review  \n",
       "0  Did you know you can make a zipcar reservation...  \n",
       "1  I've been meaning to write up Zipcar for a whi...  \n",
       "2  EDIT 2/21: After a slightly messy first Zipcar...  \n",
       "3  I love Zipcar   I have be a pround member sinc...  \n",
       "4  Flexcar is the answer for those of us that are...  "
      ]
     },
     "execution_count": 4,
     "metadata": {},
     "output_type": "execute_result"
    }
   ],
   "source": [
    "# \"Fonte\" in Italian means \"Source\" in English.\n",
    "\n",
    "df = df.rename(columns={\"Fonte\": \"Source\"})\n",
    "df.head()"
   ]
  },
  {
   "cell_type": "code",
   "execution_count": 5,
   "id": "882e2bde-0916-4666-a656-d5080580751d",
   "metadata": {},
   "outputs": [
    {
     "data": {
      "text/plain": [
       "array(['Zipcar', 'Enterprice Car Share', 'Car2go', 'piccolo',\n",
       "       'GoGet CarShare', 'DriveNow', 'Hertz 24', 'Evo Car Share',\n",
       "       'Ubeeqo', 'Maven'], dtype=object)"
      ]
     },
     "execution_count": 5,
     "metadata": {},
     "output_type": "execute_result"
    }
   ],
   "source": [
    "df.Provider.unique()"
   ]
  },
  {
   "cell_type": "code",
   "execution_count": 6,
   "id": "26b26fcc-1995-499c-aab3-d78dcc92dc96",
   "metadata": {},
   "outputs": [
    {
     "data": {
      "text/plain": [
       "array(['Station based', 'Free floating', 'Mixed'], dtype=object)"
      ]
     },
     "execution_count": 6,
     "metadata": {},
     "output_type": "execute_result"
    }
   ],
   "source": [
    "df.Type.unique()"
   ]
  },
  {
   "cell_type": "code",
   "execution_count": 7,
   "id": "e06f57b2-e1c6-41c6-86d6-998841037715",
   "metadata": {},
   "outputs": [
    {
     "data": {
      "text/plain": [
       "array(['UNITED STATES ', 'CANADA', 'AUSTRALIA', 'Non specificata ', 'UK'],\n",
       "      dtype=object)"
      ]
     },
     "execution_count": 7,
     "metadata": {},
     "output_type": "execute_result"
    }
   ],
   "source": [
    "df.Country.unique()"
   ]
  },
  {
   "cell_type": "code",
   "execution_count": 8,
   "id": "cb83399b-be10-4025-8b3d-ff9a2efa41c6",
   "metadata": {},
   "outputs": [
    {
     "data": {
      "text/plain": [
       "array(['Yelp!', 'Playstore', 'Google', 'Trustpilot.com', 'Facebook'],\n",
       "      dtype=object)"
      ]
     },
     "execution_count": 8,
     "metadata": {},
     "output_type": "execute_result"
    }
   ],
   "source": [
    "df.Source.unique()"
   ]
  },
  {
   "cell_type": "code",
   "execution_count": 9,
   "id": "ba50e03a-7db7-4c73-ba5e-746fb24b54d6",
   "metadata": {},
   "outputs": [
    {
     "data": {
      "text/plain": [
       "Provider\n",
       "Car2go                  3003\n",
       "DriveNow                 599\n",
       "Enterprice Car Share     547\n",
       "Evo Car Share            585\n",
       "GoGet CarShare           252\n",
       "Hertz 24                 151\n",
       "Maven                    313\n",
       "Ubeeqo                   154\n",
       "Zipcar                  5259\n",
       "piccolo                  264\n",
       "Name: Provider, dtype: int64"
      ]
     },
     "execution_count": 9,
     "metadata": {},
     "output_type": "execute_result"
    }
   ],
   "source": [
    "df.groupby(\"Provider\").Provider.count()"
   ]
  },
  {
   "cell_type": "code",
   "execution_count": 10,
   "id": "f44e6c49-3378-4671-9a8c-3f8f08c50146",
   "metadata": {},
   "outputs": [
    {
     "data": {
      "text/plain": [
       "\"Did you know you can make a zipcar reservation from your cell?? And you can extend your reservation in about 4 seconds from your cell as well     this was HUGH when the line at TraderJoe's was more hellish than expected  Love zipcar _x000D_\\n_x000D_\\nAnyone know what happens if you have the car out longer than your allotted reservation time? -- Update: I've heard from a few people that the alleged $50 late fine is legit  \\xa0Guess I'll always be bringing my car back on time!\""
      ]
     },
     "execution_count": 10,
     "metadata": {},
     "output_type": "execute_result"
    }
   ],
   "source": [
    "df.Review[0]"
   ]
  },
  {
   "cell_type": "code",
   "execution_count": 11,
   "id": "81c3da74-3b9c-4f5c-86d5-0957a3ff50c5",
   "metadata": {},
   "outputs": [
    {
     "name": "stdout",
     "output_type": "stream",
     "text": [
      "EDIT 2/21: After a slightly messy first Zipcar experience   Pam from Zipcar was extremely helpful and immediately responded to my concerns   They get an extra star for excellent customer service and hopefully I'll be adding back that last star after my next trip!      2/20 - On Sunday we decided to take our first mini trip since selling our car   When we got to the car location   the car we'd reserved was lost (someone from Zipcar was there looking for it)   He'd driven another Zipcar so he let us take that while he went to look for the other car   It did take a good 15 minutes to get everything sorted out though and the credit we were told we'd get was not added to our account   We'd also planned on extending the car we requested if need be (it was open according to the internet about five minutes before we left home)   but the car we were given was not open so we were unable to extend the reservation when I called   Last   were given no instructions about what to do with the car we'd been given (since it did not belong to the spot we picked it up from)   When I called customer service to ask they had no idea what i was talking about   The phone recording told us to drop it off somewhere else   but since we'd never been to that location and had no idea where it was   we hesitantly left it where we'd picked it up   I'm still not sure whether or not we'll be charged extra for that       We did love the car though!  We're really hoping this is the worst of it \n"
     ]
    }
   ],
   "source": [
    "# Replace these special characters with ' '\n",
    "replace_patterns = [['\\n', ' '], ['\\xa0', ' '],['_x000D_', ' ']]\n",
    "\n",
    "def replace_(x):\n",
    "    for r in replace_patterns:\n",
    "        x = x.replace(*r)\n",
    "    return x\n",
    "\n",
    "print(replace_(df.Review[2]))"
   ]
  },
  {
   "cell_type": "code",
   "execution_count": 12,
   "id": "bc816d19-ea70-4cec-b9ae-d7cab5b56565",
   "metadata": {},
   "outputs": [
    {
     "data": {
      "text/plain": [
       "0    Did you know you can make a zipcar reservation...\n",
       "1    I've been meaning to write up Zipcar for a whi...\n",
       "2    EDIT 2/21: After a slightly messy first Zipcar...\n",
       "3    I love Zipcar   I have be a pround member sinc...\n",
       "4    Flexcar is the answer for those of us that are...\n",
       "Name: Review, dtype: object"
      ]
     },
     "execution_count": 12,
     "metadata": {},
     "output_type": "execute_result"
    }
   ],
   "source": [
    "df.Review = df.Review.apply(replace_)\n",
    "df.Review.head()"
   ]
  },
  {
   "cell_type": "markdown",
   "id": "0c591218-5e37-49c3-9f4c-27fd6fa06810",
   "metadata": {},
   "source": [
    "## Calculating embeddings"
   ]
  },
  {
   "cell_type": "code",
   "execution_count": 13,
   "id": "76c0114e-d94b-4226-a582-4071b5d9ae16",
   "metadata": {},
   "outputs": [],
   "source": [
    "from openai import OpenAI\n",
    "\n",
    "MODEL = \"text-embedding-3-small\"\n",
    "\n",
    "client = OpenAI()"
   ]
  },
  {
   "cell_type": "code",
   "execution_count": 14,
   "id": "22cc77c2-0637-43fe-bf4f-c71cefa87ac8",
   "metadata": {},
   "outputs": [
    {
     "data": {
      "text/plain": [
       "0    Did you know you can make a zipcar reservation...\n",
       "1    I've been meaning to write up Zipcar for a whi...\n",
       "Name: Review, dtype: object"
      ]
     },
     "execution_count": 14,
     "metadata": {},
     "output_type": "execute_result"
    }
   ],
   "source": [
    "texts = df.Review[0:2]\n",
    "texts"
   ]
  },
  {
   "cell_type": "code",
   "execution_count": 15,
   "id": "508153d9-8e33-4bf2-8dcc-fb1554a4db00",
   "metadata": {},
   "outputs": [],
   "source": [
    "def calc_embeddings(texts):\n",
    "    response = client.embeddings.create(input=texts, model=MODEL)\n",
    "    return [data.embedding for data in response.data]"
   ]
  },
  {
   "cell_type": "code",
   "execution_count": 16,
   "id": "ab06ca76-4357-4df8-80c8-837fbc2120df",
   "metadata": {},
   "outputs": [
    {
     "name": "stdout",
     "output_type": "stream",
     "text": [
      "0/900 30/900 60/900 90/900 120/900 150/900 180/900 210/900 240/900 270/900 300/900 330/900 360/900 390/900 420/900 450/900 480/900 510/900 540/900 570/900 600/900 630/900 660/900 690/900 720/900 750/900 780/900 810/900 840/900 870/900 900/900 "
     ]
    }
   ],
   "source": [
    "##########################\n",
    "RUN_CALC_EMBEDDINGS = True\n",
    "##########################\n",
    "\n",
    "import pickle\n",
    "\n",
    "N_BATCH = 30\n",
    "N_SAMPLES = 900\n",
    "\n",
    "embeddings = []\n",
    "\n",
    "if RUN_CALC_EMBEDDINGS:\n",
    "    samples = df.sample(N_SAMPLES)\n",
    "    print(f\"0/{len(samples)}\", end=\" \")\n",
    "    \n",
    "    for n in range(0, len(samples), N_BATCH):\n",
    "        texts = samples.Review[n:n+N_BATCH]\n",
    "        embeddings.extend(calc_embeddings(texts))\n",
    "        print(f\"{n+N_BATCH}/{len(samples)}\", end=\" \")\n",
    "    \n",
    "    with open('pickle_data/embeddings.pkl', 'wb') as f:\n",
    "        pickle.dump({\"samples\": samples, \"embeddings\": embeddings}, f)\n",
    "\n",
    "    df = samples\n",
    "\n",
    "else:\n",
    "    with open('pickle_data/embeddings.pkl', 'rb') as f:\n",
    "        pickle_data = pickle.load(f)\n",
    "        df = pickle_data[\"samples\"]\n",
    "        embeddings = pickle_data[\"embeddings\"]"
   ]
  },
  {
   "cell_type": "code",
   "execution_count": 17,
   "id": "b448c986-91ca-480e-aa59-942e9294620b",
   "metadata": {},
   "outputs": [
    {
     "data": {
      "text/html": [
       "<div>\n",
       "<style scoped>\n",
       "    .dataframe tbody tr th:only-of-type {\n",
       "        vertical-align: middle;\n",
       "    }\n",
       "\n",
       "    .dataframe tbody tr th {\n",
       "        vertical-align: top;\n",
       "    }\n",
       "\n",
       "    .dataframe thead th {\n",
       "        text-align: right;\n",
       "    }\n",
       "</style>\n",
       "<table border=\"1\" class=\"dataframe\">\n",
       "  <thead>\n",
       "    <tr style=\"text-align: right;\">\n",
       "      <th></th>\n",
       "      <th>ID</th>\n",
       "      <th>Source</th>\n",
       "      <th>Country</th>\n",
       "      <th>Provider</th>\n",
       "      <th>Type</th>\n",
       "      <th>Data</th>\n",
       "      <th>Rating</th>\n",
       "      <th>Review</th>\n",
       "    </tr>\n",
       "  </thead>\n",
       "  <tbody>\n",
       "    <tr>\n",
       "      <th>6226</th>\n",
       "      <td>6229</td>\n",
       "      <td>Playstore</td>\n",
       "      <td>Non specificata</td>\n",
       "      <td>Hertz 24</td>\n",
       "      <td>Station based</td>\n",
       "      <td>43466</td>\n",
       "      <td>1</td>\n",
       "      <td>Hertz customer services is terrible  you can't...</td>\n",
       "    </tr>\n",
       "    <tr>\n",
       "      <th>1791</th>\n",
       "      <td>1792</td>\n",
       "      <td>Playstore</td>\n",
       "      <td>Non specificata</td>\n",
       "      <td>DriveNow</td>\n",
       "      <td>Free floating</td>\n",
       "      <td>42826</td>\n",
       "      <td>1</td>\n",
       "      <td>Didn't believe the 1 star reviews  Installed a...</td>\n",
       "    </tr>\n",
       "    <tr>\n",
       "      <th>1084</th>\n",
       "      <td>1085</td>\n",
       "      <td>Yelp!</td>\n",
       "      <td>UNITED STATES</td>\n",
       "      <td>Zipcar</td>\n",
       "      <td>Station based</td>\n",
       "      <td>42309</td>\n",
       "      <td>5</td>\n",
       "      <td>Really good customer service  I used a car for...</td>\n",
       "    </tr>\n",
       "    <tr>\n",
       "      <th>4343</th>\n",
       "      <td>4345</td>\n",
       "      <td>Playstore</td>\n",
       "      <td>Non specificata</td>\n",
       "      <td>Zipcar</td>\n",
       "      <td>Station based</td>\n",
       "      <td>43678</td>\n",
       "      <td>4</td>\n",
       "      <td>Generally smooth app but when your gasoline cr...</td>\n",
       "    </tr>\n",
       "    <tr>\n",
       "      <th>4034</th>\n",
       "      <td>4036</td>\n",
       "      <td>Trustpilot.com</td>\n",
       "      <td>UK</td>\n",
       "      <td>Car2go</td>\n",
       "      <td>Free floating</td>\n",
       "      <td>43313</td>\n",
       "      <td>2</td>\n",
       "      <td>After a few weeks of using car2go every now an...</td>\n",
       "    </tr>\n",
       "  </tbody>\n",
       "</table>\n",
       "</div>"
      ],
      "text/plain": [
       "        ID          Source           Country  Provider           Type   Data  \\\n",
       "6226  6229       Playstore  Non specificata   Hertz 24  Station based  43466   \n",
       "1791  1792       Playstore  Non specificata   DriveNow  Free floating  42826   \n",
       "1084  1085           Yelp!    UNITED STATES     Zipcar  Station based  42309   \n",
       "4343  4345       Playstore  Non specificata     Zipcar  Station based  43678   \n",
       "4034  4036  Trustpilot.com                UK    Car2go  Free floating  43313   \n",
       "\n",
       "      Rating                                             Review  \n",
       "6226       1  Hertz customer services is terrible  you can't...  \n",
       "1791       1  Didn't believe the 1 star reviews  Installed a...  \n",
       "1084       5  Really good customer service  I used a car for...  \n",
       "4343       4  Generally smooth app but when your gasoline cr...  \n",
       "4034       2  After a few weeks of using car2go every now an...  "
      ]
     },
     "execution_count": 17,
     "metadata": {},
     "output_type": "execute_result"
    }
   ],
   "source": [
    "df.head()"
   ]
  },
  {
   "cell_type": "code",
   "execution_count": 18,
   "id": "b32e932e-69be-4eeb-b5cc-af8a9298954d",
   "metadata": {},
   "outputs": [
    {
     "data": {
      "text/plain": [
       "array(['Non specificata ', 'Non specificata ', 'UNITED STATES '],\n",
       "      dtype=object)"
      ]
     },
     "execution_count": 18,
     "metadata": {},
     "output_type": "execute_result"
    }
   ],
   "source": [
    "df.Country.values[:3]"
   ]
  },
  {
   "cell_type": "code",
   "execution_count": 19,
   "id": "20b9e550-236b-45fa-8c7a-90e3c6656940",
   "metadata": {},
   "outputs": [
    {
     "data": {
      "text/html": [
       "<div>\n",
       "<style scoped>\n",
       "    .dataframe tbody tr th:only-of-type {\n",
       "        vertical-align: middle;\n",
       "    }\n",
       "\n",
       "    .dataframe tbody tr th {\n",
       "        vertical-align: top;\n",
       "    }\n",
       "\n",
       "    .dataframe thead th {\n",
       "        text-align: right;\n",
       "    }\n",
       "</style>\n",
       "<table border=\"1\" class=\"dataframe\">\n",
       "  <thead>\n",
       "    <tr style=\"text-align: right;\">\n",
       "      <th></th>\n",
       "      <th>ID</th>\n",
       "      <th>Source</th>\n",
       "      <th>Country</th>\n",
       "      <th>Provider</th>\n",
       "      <th>Type</th>\n",
       "      <th>Data</th>\n",
       "      <th>Rating</th>\n",
       "      <th>Review</th>\n",
       "      <th>Embedding</th>\n",
       "    </tr>\n",
       "  </thead>\n",
       "  <tbody>\n",
       "    <tr>\n",
       "      <th>1084</th>\n",
       "      <td>1085</td>\n",
       "      <td>Yelp!</td>\n",
       "      <td>UNITED STATES</td>\n",
       "      <td>Zipcar</td>\n",
       "      <td>Station based</td>\n",
       "      <td>42309</td>\n",
       "      <td>5</td>\n",
       "      <td>Really good customer service  I used a car for...</td>\n",
       "      <td>[-0.011090480722486973, -0.019939465448260307,...</td>\n",
       "    </tr>\n",
       "    <tr>\n",
       "      <th>765</th>\n",
       "      <td>766</td>\n",
       "      <td>Google</td>\n",
       "      <td>UNITED STATES</td>\n",
       "      <td>Zipcar</td>\n",
       "      <td>Station based</td>\n",
       "      <td>41944</td>\n",
       "      <td>1</td>\n",
       "      <td>Do not join\"is my suggestion  I use zipcar for...</td>\n",
       "      <td>[-0.007491136435419321, -0.017821019515395164,...</td>\n",
       "    </tr>\n",
       "    <tr>\n",
       "      <th>4541</th>\n",
       "      <td>4543</td>\n",
       "      <td>Yelp!</td>\n",
       "      <td>UNITED STATES</td>\n",
       "      <td>Zipcar</td>\n",
       "      <td>Station based</td>\n",
       "      <td>39417</td>\n",
       "      <td>5</td>\n",
       "      <td>I read all the great reviews on yelp so I've d...</td>\n",
       "      <td>[-0.019395850598812103, 0.017157360911369324, ...</td>\n",
       "    </tr>\n",
       "    <tr>\n",
       "      <th>6249</th>\n",
       "      <td>6252</td>\n",
       "      <td>Yelp!</td>\n",
       "      <td>UNITED STATES</td>\n",
       "      <td>Zipcar</td>\n",
       "      <td>Station based</td>\n",
       "      <td>39630</td>\n",
       "      <td>5</td>\n",
       "      <td>After giving up my car nearly 4 years ago afte...</td>\n",
       "      <td>[0.02326906844973564, -0.0023030994925647974, ...</td>\n",
       "    </tr>\n",
       "    <tr>\n",
       "      <th>10251</th>\n",
       "      <td>10255</td>\n",
       "      <td>Yelp!</td>\n",
       "      <td>UNITED STATES</td>\n",
       "      <td>Zipcar</td>\n",
       "      <td>Station based</td>\n",
       "      <td>39692</td>\n",
       "      <td>2</td>\n",
       "      <td>This is now for ZipCar   I do not like this co...</td>\n",
       "      <td>[-0.00840537715703249, -0.016769245266914368, ...</td>\n",
       "    </tr>\n",
       "  </tbody>\n",
       "</table>\n",
       "</div>"
      ],
      "text/plain": [
       "          ID  Source        Country Provider           Type   Data  Rating  \\\n",
       "1084    1085   Yelp!  UNITED STATES   Zipcar  Station based  42309       5   \n",
       "765      766  Google  UNITED STATES   Zipcar  Station based  41944       1   \n",
       "4541    4543   Yelp!  UNITED STATES   Zipcar  Station based  39417       5   \n",
       "6249    6252   Yelp!  UNITED STATES   Zipcar  Station based  39630       5   \n",
       "10251  10255   Yelp!  UNITED STATES   Zipcar  Station based  39692       2   \n",
       "\n",
       "                                                  Review  \\\n",
       "1084   Really good customer service  I used a car for...   \n",
       "765    Do not join\"is my suggestion  I use zipcar for...   \n",
       "4541   I read all the great reviews on yelp so I've d...   \n",
       "6249   After giving up my car nearly 4 years ago afte...   \n",
       "10251  This is now for ZipCar   I do not like this co...   \n",
       "\n",
       "                                               Embedding  \n",
       "1084   [-0.011090480722486973, -0.019939465448260307,...  \n",
       "765    [-0.007491136435419321, -0.017821019515395164,...  \n",
       "4541   [-0.019395850598812103, 0.017157360911369324, ...  \n",
       "6249   [0.02326906844973564, -0.0023030994925647974, ...  \n",
       "10251  [-0.00840537715703249, -0.016769245266914368, ...  "
      ]
     },
     "execution_count": 19,
     "metadata": {},
     "output_type": "execute_result"
    }
   ],
   "source": [
    "# Narrow down to Station based and US and Zipcar\n",
    "\n",
    "df.Country = df.Country.apply(lambda x: x.strip())\n",
    "\n",
    "df[\"Embedding\"] = embeddings\n",
    "df = df[(df[\"Type\"] == \"Station based\") & (df[\"Country\"] == \"UNITED STATES\") & (df[\"Provider\"] == \"Zipcar\")]\n",
    "df.head()"
   ]
  },
  {
   "cell_type": "markdown",
   "id": "1e6d9253-044a-474f-8b48-9b3aa25c6c35",
   "metadata": {},
   "source": [
    "## K-means method"
   ]
  },
  {
   "cell_type": "code",
   "execution_count": 20,
   "id": "97753da5-008e-4e96-b958-972c5842ae2f",
   "metadata": {},
   "outputs": [
    {
     "data": {
      "text/plain": [
       "(164, 1536)"
      ]
     },
     "execution_count": 20,
     "metadata": {},
     "output_type": "execute_result"
    }
   ],
   "source": [
    "import numpy as np\n",
    "\n",
    "matrix = np.vstack(df[\"Embedding\"].values)\n",
    "matrix.shape"
   ]
  },
  {
   "cell_type": "markdown",
   "id": "b9cb24a5-3bb9-4af6-a1db-b2dd656851a6",
   "metadata": {},
   "source": [
    "### Find the clusters using K-means"
   ]
  },
  {
   "cell_type": "code",
   "execution_count": 21,
   "id": "abfe7c7b-b77d-4764-b3d1-6a8b3344e201",
   "metadata": {},
   "outputs": [
    {
     "name": "stderr",
     "output_type": "stream",
     "text": [
      "/Library/Frameworks/Python.framework/Versions/3.11/lib/python3.11/site-packages/sklearn/cluster/_kmeans.py:1416: FutureWarning: The default value of `n_init` will change from 10 to 'auto' in 1.4. Set the value of `n_init` explicitly to suppress the warning\n",
      "  super()._check_params_vs_input(X, default_n_init=10)\n",
      "/var/folders/_t/6t6dcyn14zb6p4jvvrgprd0m0000gn/T/ipykernel_73558/1919122863.py:8: SettingWithCopyWarning: \n",
      "A value is trying to be set on a copy of a slice from a DataFrame.\n",
      "Try using .loc[row_indexer,col_indexer] = value instead\n",
      "\n",
      "See the caveats in the documentation: https://pandas.pydata.org/pandas-docs/stable/user_guide/indexing.html#returning-a-view-versus-a-copy\n",
      "  df[\"Cluster\"] = labels\n"
     ]
    },
    {
     "data": {
      "text/plain": [
       "Cluster\n",
       "3    1.031250\n",
       "0    1.239130\n",
       "2    2.585366\n",
       "1    4.800000\n",
       "Name: Rating, dtype: float64"
      ]
     },
     "execution_count": 21,
     "metadata": {},
     "output_type": "execute_result"
    }
   ],
   "source": [
    "from sklearn.cluster import KMeans\n",
    "\n",
    "n_clusters = 4\n",
    "\n",
    "kmeans = KMeans(n_clusters=n_clusters, init=\"k-means++\", random_state=42)\n",
    "kmeans.fit(matrix)\n",
    "labels = kmeans.labels_\n",
    "df[\"Cluster\"] = labels\n",
    "\n",
    "df.groupby(\"Cluster\").Rating.mean().sort_values()"
   ]
  },
  {
   "cell_type": "code",
   "execution_count": 22,
   "id": "b85eb334-3f67-4c0a-a941-db530d44c251",
   "metadata": {},
   "outputs": [
    {
     "data": {
      "text/plain": [
       "Text(0.5, 1.0, 'Clusters identified visualized in language 2d using t-SNE')"
      ]
     },
     "execution_count": 22,
     "metadata": {},
     "output_type": "execute_result"
    },
    {
     "data": {
      "image/png": "[encoded data removed]",
      "text/plain": [
       "<Figure size 640x480 with 1 Axes>"
      ]
     },
     "metadata": {},
     "output_type": "display_data"
    }
   ],
   "source": [
    "from sklearn.manifold import TSNE\n",
    "import matplotlib\n",
    "import matplotlib.pyplot as plt\n",
    "\n",
    "tsne = TSNE(n_components=2, perplexity=15, random_state=42, init=\"random\", learning_rate=200)\n",
    "vis_dims2 = tsne.fit_transform(matrix)\n",
    "\n",
    "x = [x for x, y in vis_dims2]\n",
    "y = [y for x, y in vis_dims2]\n",
    "\n",
    "for category, color in enumerate([\"purple\", \"green\", \"red\", \"blue\"]):\n",
    "    xs = np.array(x)[df.Cluster == category]\n",
    "    ys = np.array(y)[df.Cluster == category]\n",
    "    plt.scatter(xs, ys, color=color, alpha=0.3)\n",
    "\n",
    "    avg_x = xs.mean()\n",
    "    avg_y = ys.mean()\n",
    "\n",
    "    plt.scatter(avg_x, avg_y, marker=\"x\", color=color, s=100)\n",
    "plt.title(\"Clusters identified visualized in language 2d using t-SNE\")"
   ]
  },
  {
   "cell_type": "markdown",
   "id": "bdec3d0f-43e5-4446-8c79-c03c6a23f970",
   "metadata": {},
   "source": [
    "### Text samples in the clusters & naming the clusters"
   ]
  },
  {
   "cell_type": "code",
   "execution_count": 23,
   "id": "64db869d-a895-45e9-bc9a-0de7b1c1c733",
   "metadata": {},
   "outputs": [
    {
     "data": {
      "text/html": [
       "<div>\n",
       "<style scoped>\n",
       "    .dataframe tbody tr th:only-of-type {\n",
       "        vertical-align: middle;\n",
       "    }\n",
       "\n",
       "    .dataframe tbody tr th {\n",
       "        vertical-align: top;\n",
       "    }\n",
       "\n",
       "    .dataframe thead th {\n",
       "        text-align: right;\n",
       "    }\n",
       "</style>\n",
       "<table border=\"1\" class=\"dataframe\">\n",
       "  <thead>\n",
       "    <tr style=\"text-align: right;\">\n",
       "      <th></th>\n",
       "      <th>ID</th>\n",
       "      <th>Source</th>\n",
       "      <th>Country</th>\n",
       "      <th>Provider</th>\n",
       "      <th>Type</th>\n",
       "      <th>Data</th>\n",
       "      <th>Rating</th>\n",
       "      <th>Review</th>\n",
       "      <th>Embedding</th>\n",
       "      <th>Cluster</th>\n",
       "    </tr>\n",
       "  </thead>\n",
       "  <tbody>\n",
       "    <tr>\n",
       "      <th>1084</th>\n",
       "      <td>1085</td>\n",
       "      <td>Yelp!</td>\n",
       "      <td>UNITED STATES</td>\n",
       "      <td>Zipcar</td>\n",
       "      <td>Station based</td>\n",
       "      <td>42309</td>\n",
       "      <td>5</td>\n",
       "      <td>Really good customer service  I used a car for...</td>\n",
       "      <td>[-0.011090480722486973, -0.019939465448260307,...</td>\n",
       "      <td>1</td>\n",
       "    </tr>\n",
       "    <tr>\n",
       "      <th>765</th>\n",
       "      <td>766</td>\n",
       "      <td>Google</td>\n",
       "      <td>UNITED STATES</td>\n",
       "      <td>Zipcar</td>\n",
       "      <td>Station based</td>\n",
       "      <td>41944</td>\n",
       "      <td>1</td>\n",
       "      <td>Do not join\"is my suggestion  I use zipcar for...</td>\n",
       "      <td>[-0.007491136435419321, -0.017821019515395164,...</td>\n",
       "      <td>0</td>\n",
       "    </tr>\n",
       "    <tr>\n",
       "      <th>4541</th>\n",
       "      <td>4543</td>\n",
       "      <td>Yelp!</td>\n",
       "      <td>UNITED STATES</td>\n",
       "      <td>Zipcar</td>\n",
       "      <td>Station based</td>\n",
       "      <td>39417</td>\n",
       "      <td>5</td>\n",
       "      <td>I read all the great reviews on yelp so I've d...</td>\n",
       "      <td>[-0.019395850598812103, 0.017157360911369324, ...</td>\n",
       "      <td>1</td>\n",
       "    </tr>\n",
       "    <tr>\n",
       "      <th>6249</th>\n",
       "      <td>6252</td>\n",
       "      <td>Yelp!</td>\n",
       "      <td>UNITED STATES</td>\n",
       "      <td>Zipcar</td>\n",
       "      <td>Station based</td>\n",
       "      <td>39630</td>\n",
       "      <td>5</td>\n",
       "      <td>After giving up my car nearly 4 years ago afte...</td>\n",
       "      <td>[0.02326906844973564, -0.0023030994925647974, ...</td>\n",
       "      <td>1</td>\n",
       "    </tr>\n",
       "    <tr>\n",
       "      <th>10251</th>\n",
       "      <td>10255</td>\n",
       "      <td>Yelp!</td>\n",
       "      <td>UNITED STATES</td>\n",
       "      <td>Zipcar</td>\n",
       "      <td>Station based</td>\n",
       "      <td>39692</td>\n",
       "      <td>2</td>\n",
       "      <td>This is now for ZipCar   I do not like this co...</td>\n",
       "      <td>[-0.00840537715703249, -0.016769245266914368, ...</td>\n",
       "      <td>2</td>\n",
       "    </tr>\n",
       "  </tbody>\n",
       "</table>\n",
       "</div>"
      ],
      "text/plain": [
       "          ID  Source        Country Provider           Type   Data  Rating  \\\n",
       "1084    1085   Yelp!  UNITED STATES   Zipcar  Station based  42309       5   \n",
       "765      766  Google  UNITED STATES   Zipcar  Station based  41944       1   \n",
       "4541    4543   Yelp!  UNITED STATES   Zipcar  Station based  39417       5   \n",
       "6249    6252   Yelp!  UNITED STATES   Zipcar  Station based  39630       5   \n",
       "10251  10255   Yelp!  UNITED STATES   Zipcar  Station based  39692       2   \n",
       "\n",
       "                                                  Review  \\\n",
       "1084   Really good customer service  I used a car for...   \n",
       "765    Do not join\"is my suggestion  I use zipcar for...   \n",
       "4541   I read all the great reviews on yelp so I've d...   \n",
       "6249   After giving up my car nearly 4 years ago afte...   \n",
       "10251  This is now for ZipCar   I do not like this co...   \n",
       "\n",
       "                                               Embedding  Cluster  \n",
       "1084   [-0.011090480722486973, -0.019939465448260307,...        1  \n",
       "765    [-0.007491136435419321, -0.017821019515395164,...        0  \n",
       "4541   [-0.019395850598812103, 0.017157360911369324, ...        1  \n",
       "6249   [0.02326906844973564, -0.0023030994925647974, ...        1  \n",
       "10251  [-0.00840537715703249, -0.016769245266914368, ...        2  "
      ]
     },
     "execution_count": 23,
     "metadata": {},
     "output_type": "execute_result"
    }
   ],
   "source": [
    "df.head()"
   ]
  },
  {
   "cell_type": "code",
   "execution_count": 24,
   "id": "117896bf-f1b9-4321-9dbd-80fd45094546",
   "metadata": {},
   "outputs": [
    {
     "name": "stdout",
     "output_type": "stream",
     "text": [
      "Cluster 0 Theme: The common theme in the customer reviews is **frustration with customer service and operational issues** related to Zipcar. 1. **Lack of Communication and Support**: Customers express dissatisfaction with the difficulty in reaching customer service and the long hold times. They feel that their concerns are not adequately addressed, leading to\n",
      "---\n",
      "\n",
      "1, I applied a zipcar yearly member at 2016 july  it has been more than 30 days since I paid the member fee online   but I never get my zipcar card   which means I cannot use their service  I called them two weeks ago   the customer service told me they will send me a card once again   and I still didn't get it  so I called them once again today   I told the customer service I cannot use their service   so I want to cancel my membership and get refund  the customer service ask me some account information   and after that   she told me she cancellde my account but she will not give me any refund   because I used their service?? this is ridiculous   l even didn't get my member card   how can l use the service? however l will dispute my credit card and never use their service  And for a customer service   if I told you I want cancel account and get refund   youjust do the cancel account without refund   you need to tell me before you do it   bacause that is not follow a customer's order   and not follow a refund rule   but just do whatever you want to do \n",
      "\n",
      "1, Have been a Zipcar member for a number of years now and haven't had too many problems   but my most recent experience has gotten me a bit jaded of the service   Tried Zipcar?'s new \"Roadtrip\" option over Memorial Day weekend where one can rent any 4-door Zipcar sedan that an Avis/Budget office has available   instead of renting a specific car available   Got to the rental place and not only is there no reservation on record   but the representative is unwilling to do anything for me  Candie   the Zipcar representative   does not find any other cars available (given it's Memorial Day weekend) and offers no compensation despite the fact that an entire day trip planned and booked in advance was going to be ruined   We get lucky as there are regular rental cars available to book at the same site   We end up booking a separate   significantly more expensive car rental at  the same place where a Zipcar was supposed to be available Clearly a few kinks to work out   so be warned before renting using the roadtrip option    The relationship with the car rental agencies needs to improve before this becomes a reliable option    We are unable to do anything else forcing us to find another more expensive car to rent and eating up a few hours out of our day trip To top everything off   Zipcar? claims they are unable to help reimburse the costs of the new rental we had to take over despite the fact it is significantly more expensive than the original rental we had made    I would say it should be only fair to help defray the cost of the separate car we were forced to rent as a result of Zipcar's faulty program   At any rate   hope this message can help someone else when trying to decide how to take a day trip!\n",
      "\n",
      "1, They're not improving and now they give you no way to contact them other than the 800# with long hold times   I would use Zipcar a lot more (like I used to!) if this were not the case - it's a great service   Sadly   their customer service seems nonexistent \n",
      "\n",
      "----------------------------------------------------------------------------------------------------\n",
      "Cluster 1 Theme: The common theme in the customer reviews is **convenience and ease of use** associated with the Zipcar service. Reviewers highlight several aspects that contribute to this theme:1. **User-Friendly Experience**: Many customers mention how easy it is to use the Zipcar app and the online reservation system, indicating that\n",
      "---\n",
      "\n",
      "5, Super easy to use   24/7 support  Great customer service!  Love using my iPhone app for last minute reservations \n",
      "\n",
      "5, I've been using Zipcar for two years now   Since I haven't owned a car in 7 years (since I moved here)   it is refreshing to finally be able to go to Home Depot and Petco without switching buses   calling cabs   etc   They offer lots of different payment plans   and I get away with about $50 a month to cover groceries and other errands   There are plenty of cars in Brighton if you live around Cleveland Circle   Also   if you go to other cities with Zipcar you can use cars there as well \n",
      "\n",
      "5, Love   love   LOVE Zipcar  I gave up my two cars a couple of years ago -- really don't need them here   and usually my boyfriend is my chauffeur  Still   there are times when I just need a car on my own time and my own terms  The online reservation system is the best -- so easy  I've used the service twice   so far -- once to go to a baby shower in San Jose (just couldn't bring myself to ask that favor of the BF)   and then again over Easter weekend to drive out to the family picnic and run some errands in the east bay  I've driven the Mazda 3 (which is ok   but a little small) and the Toyota Matrix (which I really enjoyed and is now parked just two blocks from my apartment!)  I needed to extend my time over Easter and it was so easy -- just called the 800 number and pushed a few buttons and   voila   I didn't have to worry about bridge traffic causing a nasty late fee  I'm trying to get my other car-free friends to join   too  Yay   Zipcar!!\n",
      "\n",
      "----------------------------------------------------------------------------------------------------\n",
      "Cluster 2 Theme: The common theme in these customer reviews is **frustration with Zipcar's customer service and operational policies**. 1. **Customer Service Issues**: Multiple reviewers express dissatisfaction with the responsiveness and effectiveness of Zipcar's customer service. They describe experiences of being put on hold, receiving inadequate assistance, and facing delays\n",
      "---\n",
      "\n",
      "2, I've been a Zipcar member for three years and   all in all   I've had very good experiences both with car rentals and customer service  My most recent experience was a revelation   reminding me that Zipcar is just a corporation serving their own interests above all else  After a recent rental   I was sent a customer survey  and answered their questions and submitted a comment - customer service called me within minutes of filling out the survey to remind me of their rules Here's what I wrote:\"Your online app apparently was not doing the last step to confirm an extension of my reservation  This happened twice  The second time   I had passed the reservation rental period  The car would not start (something I did not know was the policy)  I kept trying to extend the time for several minutes online   then tried the phone based system to extend it and it told me the car was booked for that period  So   finally   I called customer service   was put on hold for 9 minutes   only to be told I had exceeded my limit and would be charged $50  Now here's the thing   what if a rapist was trying to break into my car to get me and I could not start the car to get away? Or   I stalled the car on a railroad crossing and    or needing to rush to the hospital    I could imagine a thousand different scenarios where needing to start the car would be a matter of life or death (remember the AAA rape[-murder] case?)  Now   I understand it is a matter of financial trade-offs for you   like steel doors on airline passenger cabins   but your customers are probably extremely responsible and do not often purposely try to get some extra time  The $50 late fee is more than enough incentive \"Customer service did forgive the $50 charge   but they also chastised me for not knowing the rules and for not waiting for a confirmation of the confirmation  They suggested that I use their text based system because it is much less unreliable and sends a reminder   which   now that I know this is the best option   I will do from this point forward  They also told me I should have been locked out of the car   which I was not   thankfully   and that if they did not have this policy    people would not return the cars on time  Really? - so   increase the fee to $100 and drop customers who repeatedly return cars late   but don't endanger people unnecessarily just to make a buck  I would not recommend Zipcar to anybody who might find themselves in a potentially dangerous situation where access to a car might be a matter of life and death  Places and situations to avoid when renting a Zipcar: wilderness trailheads   especially when the temperature is below freezing   urban environments after dark   floodplains   tsunami zones   in a lightning storm   etc   \n",
      "\n",
      "1, If I could give negative stars   I would I have a few friends who are members of Zipcar and at first I thought the idea was super cool  Need to do a quick grocery run   local adventure   shopping trip   etc but don't want to spend a ton of money for a day long rental? Zipcar is there for you    but   boy was I soooooo wrong Not only are their prices (it may look harmless but watch for those ridiculous   hidden administrative fees) just about as much as a day long rental from an actually reputable not awful company   their customer service is complete and utter crap and makes you want to pull your hair out   burn your license   and never get in a car again My friend was recently charged for a parking ticket that she is 100% not liable for-- it was issued a full day after her reservation and she immediately contacted zipcar when she parked it   Not only that   but she was informed of it a full SIX MONTHS after the ticket was issued AND she was charged late fees from Zipcars own negligence of not paying the ticket on time All that said   though   it isn't my biggest gripe with this whole ordeal  The customer service is ABYSMAL  A business model that is dependent on membership fees that doesn't have a front facing member services department confuses the hell out of me  Yes there is an 800 number you can call but it leads you to people who can't help you with anything  They tell you oh we have to forward this to the right department   with high priority   and they will get back to you in 2 business days  2 business days pass   nothing   repeat cycle    and then it's a month later   nothing is taken care of   you're still calling   but now you're looking up new car share places to join Save yourself the hassle   don't use Zipcar for one second  They are banking on being the largest carsharing company in a metropolitan area with a ton of drivers who don't own cars  Instead   try Car2Go   regular rental cars   or GetAround (getaround com/tour)  Good luck out there   folks \n",
      "\n",
      "4, My \"key\" never works  By key I mean credit card looking thing that I hold up to windshield  I stand there like some sort of ESL student trying to read an upside down Star Maps or something  I tried to hold my credit card up to my apartment's peep hole once and my land lord punched me in the testicles and then evicted me!I like Zip Car  I really it when the previous car user leaves the radio turned up to 11 and the heater on full blast  Thanks a lot previous user! I have no idea how the gas filling is suppose to work so I never refill the tank   sorry next user!It's expensive for longer bookings   but cheap for short stints in the city   but see   it's like a 5 star hooker   what can you really do in an hour? Na'mean? I'd suggest people getting a ZipCar if they feel absolutely ridiculous carrying their groceries home on the bus  It's also nice for going out of the city   getting really drunk   and then driving back  Hey   I got insurance!\n",
      "\n",
      "----------------------------------------------------------------------------------------------------\n",
      "Cluster 3 Theme: The common theme in the customer reviews is **frustration with poor customer service and lack of transparency**. Customers express dissatisfaction with the following issues:1. **Unclear Pricing and Fees**: Reviewers mention that the pricing structure is not transparent, leading to unexpected costs and frustrations when trying to resolve issues.2\n",
      "---\n",
      "\n",
      "1, Their hourly pricing is not fair or transparent because you have to factor in time to resolve all the issues that arise and your hold time on the phone for customer service   All the extra time troubleshooting adds up when you're charged by the hour  1  Fuel on empty - finding a gas station in Manhattan easily tacks on another half hour 2  Car reader not functioning  Cars can be unlocked remotely by customer service   and each car is supposedly stocked with spare replacement cards  But of course all 6 cars in this garage had no cards because they hadn't been serviced in forever  The process of unlocking and searching all 6 cars - 60+ minutes \n",
      "\n",
      "1, So I'm in a bind because Enterprise Carshare is leaving the DC market and I need a new carshare service   I figured I may as well go with the originals right?Unfortunately   they only have one station within a 5 minute walk from home   and its in a private garage rather than out on the street   So naturally I want to call and find out how exactly I can go about using it once that garage closes each night (fairly early -- like 11pm from walking past it) Not only do I have to argue with the customer service guy that this is a problem that exists   he then puts me on hold for 5 minutes and says \"I don't know\" when he comes back on He then proceeds to tell me there \"is no customer service line for prospective customers   you have to read the FAQ on the website \"  Which of course doesn't tell you squat about the fine points of membership fees   fines   etc  that go with the service   much less things like \"when can you get a car from this particular rental spot \"I feel sorry for their customers   If this is the sort of monopoly for carsharing we're left with here in DC   we're in for real trouble   \n",
      "\n",
      "1, Excuse my language   but   terrible SHITTY SERVICE  RUINED MY HOLIDAY FOR THIS WEEKEND!! They do not even accept customers at their location   yet their website  says they DO!!!! They took money from my account PRIOR to mailing the card to me   so how the hell am I supposed to get the car out of the garage if I don't know when the card is going to be mailed to my address???? I want all of my money back   and I never even used Zipcar before!!!!!! I was only going to use it for this Saturday and I had it reserved for that day   but what is the damn point of it being reserved if I cannot access it without the card I haven't seen in the mail for MONTHS??!!! I've also tried getting the card mailed again but its WORTHLESS now because I WILL NOT HAVE ONE IN TIME FOR CHRISTMAS SINCE I HAVE TO WAIT IN THE MAIL AGAIN FOR MY CARD I HAVE ATTEMPTED TO ORDER FOR THE PAST FEW MONTHS NOW   CHRIST!!!!!!! I will be reporting that shitty service to the Better Business Bureau   because they annoy me so much with the way they handled my situation  I have never been this upset with any company before in my LIFE except for ZIPCAR   and I haven't even started using them yet!!!!!!! I am a student at a University and think this company should do better   starting with allowing everyone to come into offices to pick up a TEMPORARY card instead of WAITING 3-7 BUSINESS DAYS/MONTHS!!!!!!!!  The supervisor was not even helpful at all!! he basically just repeated what every single employee repeated about the card being mailed to your address and having to wait about 3-7 business days to be mailed   but cant even pick it up at their location!!!!!!!!!!!!!!!!!!!!!  Why do they even have a customer service at their location if they are no help????!!! Why still charge my card and wait months to mail me a new card!!! My new card is not here yet!!!!!! I want my money back!!!!!! I will never attempt to waste my money on this pathetic   worthless   unprofessional company EVER again!!!! They have ruined my holidays   and have wasted my time and my money  I doubt I will EVER see that card in my mail   and I was supposed to get the card AGES AGO!!!!!!! I WILL BE REPORTING YOU PEOPLE TO THE BETTER BUSINESS BUREAU   AND I WANT NOTHING TO DO WITH YOUR COMPANY EVER AGAIN  So report review if you want   Zipcar  I am reporting your shitty service!!!! I normally do not EVER talk like this   but this company has completely ruined my holidays for this year   and I have NEVER been so annoyed with ANY person   or ANY animal   or any THING as much as I have with ZIPCAR!!!!! YELP FORCED ME TO GIVE THAT COMPANY 1 STAR JUST FOR SYMPATHY   BUT IT DESERVES LESS!!!!!!!! THAT COMPANY IS FAR FROM 0  Its in the negatives  Its WORTHLESS!!!!! I WANT MY MONEY BACK!!!!!!!!!!!!!!!!\n",
      "\n",
      "----------------------------------------------------------------------------------------------------\n"
     ]
    }
   ],
   "source": [
    "from openai import OpenAI\n",
    "import os\n",
    "\n",
    "client = OpenAI()\n",
    "\n",
    "# Reading a review which belong to each group.\n",
    "rev_per_cluster = 3\n",
    "\n",
    "for i in range(n_clusters):\n",
    "    print(f\"Cluster {i} Theme:\", end=\" \")\n",
    "\n",
    "    reviews = \"\\n\".join(\n",
    "        df[df.Cluster == i].Review.sample(rev_per_cluster, random_state=42).values\n",
    "    )\n",
    "\n",
    "    messages = [\n",
    "        {\"role\": \"user\", \"content\": f'What do the following customer reviews have in common?\\n\\nCustomer reviews:\\n\"\"\"\\n{reviews}\\n\"\"\"\\n\\nTheme:'}\n",
    "    ]\n",
    "\n",
    "    response = client.chat.completions.create(\n",
    "        model=\"gpt-4o-mini\",\n",
    "        messages=messages,\n",
    "        temperature=0,\n",
    "        max_tokens=64,\n",
    "        top_p=1,\n",
    "        frequency_penalty=0,\n",
    "        presence_penalty=0)\n",
    "    print(response.choices[0].message.content.replace(\"\\n\", \"\"))\n",
    "\n",
    "    print(\"---\\n\")\n",
    "    \n",
    "    sample_cluster_rows = df[df.Cluster == i].sample(rev_per_cluster, random_state=42)\n",
    "    for j in range(rev_per_cluster):\n",
    "        print(sample_cluster_rows.Rating.values[j], end=\", \")\n",
    "        print(sample_cluster_rows.Review.values[j], end=\"\\n\\n\")\n",
    "\n",
    "    print(\"-\" * 100)"
   ]
  },
  {
   "cell_type": "code",
   "execution_count": null,
   "id": "0162148a-33e4-45ef-9df5-68a034a47b51",
   "metadata": {},
   "outputs": [],
   "source": []
  }
 ],
 "metadata": {
  "kernelspec": {
   "display_name": "Python 3 (ipykernel)",
   "language": "python",
   "name": "python3"
  },
  "language_info": {
   "codemirror_mode": {
    "name": "ipython",
    "version": 3
   },
   "file_extension": ".py",
   "mimetype": "text/x-python",
   "name": "python",
   "nbconvert_exporter": "python",
   "pygments_lexer": "ipython3",
   "version": "3.11.4"
  }
 },
 "nbformat": 4,
 "nbformat_minor": 5
}
