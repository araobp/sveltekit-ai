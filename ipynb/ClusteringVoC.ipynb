{
 "cells": [
  {
   "cell_type": "markdown",
   "id": "145f524f-7db8-48f3-a4af-2a8fbeed4491",
   "metadata": {},
   "source": [
    "# Clustering VoC\n",
    "\n",
    "Date: 2025/5/7"
   ]
  },
  {
   "cell_type": "markdown",
   "id": "dbc815fc-c5b7-4fb8-b681-9981f427c40c",
   "metadata": {},
   "source": [
    "## Dataset (CC0 license)\n",
    "\n",
    "DATASET: Digital Voice-of-Customer on sharing mobility services\n",
    "\n",
    "https://dataverse.harvard.edu/dataset.xhtml?persistentId=doi:10.7910/DVN/JXK3Z8\n",
    "\n",
    "Publication: MOBI-Qual: a common framework to manage the product-service system quality of shared mobility\n",
    "\n",
    "https://link.springer.com/article/10.1007/s10696-023-09520-y"
   ]
  },
  {
   "cell_type": "markdown",
   "id": "c1126a83-49d3-47aa-a9f3-64e3347e3b6c",
   "metadata": {},
   "source": [
    "EmbeddingとK-means法を使って、問い合わせをクラスタリング\n",
    "\n",
    "https://qiita.com/Tokoroteen/items/c2974c76baf05c59b94d"
   ]
  },
  {
   "cell_type": "code",
   "execution_count": null,
   "id": "7b9cfbb5-c864-4d97-b1d6-e90913eea77a",
   "metadata": {},
   "outputs": [],
   "source": []
  },
  {
   "cell_type": "code",
   "execution_count": 4,
   "id": "0e7776d4-6391-4700-b13b-5ede7556018b",
   "metadata": {},
   "outputs": [],
   "source": [
    "DATA_PATH = \"dataset/Digital VoC Dataset.xlsx\""
   ]
  },
  {
   "cell_type": "code",
   "execution_count": 9,
   "id": "206cc920-e83e-4ee0-8ee5-21668cdd0ff2",
   "metadata": {},
   "outputs": [
    {
     "data": {
      "text/html": [
       "<div>\n",
       "<style scoped>\n",
       "    .dataframe tbody tr th:only-of-type {\n",
       "        vertical-align: middle;\n",
       "    }\n",
       "\n",
       "    .dataframe tbody tr th {\n",
       "        vertical-align: top;\n",
       "    }\n",
       "\n",
       "    .dataframe thead th {\n",
       "        text-align: right;\n",
       "    }\n",
       "</style>\n",
       "<table border=\"1\" class=\"dataframe\">\n",
       "  <thead>\n",
       "    <tr style=\"text-align: right;\">\n",
       "      <th></th>\n",
       "      <th>ID</th>\n",
       "      <th>Fonte</th>\n",
       "      <th>Country</th>\n",
       "      <th>Provider</th>\n",
       "      <th>Type</th>\n",
       "      <th>Data</th>\n",
       "      <th>Rating</th>\n",
       "      <th>Review</th>\n",
       "    </tr>\n",
       "  </thead>\n",
       "  <tbody>\n",
       "    <tr>\n",
       "      <th>0</th>\n",
       "      <td>1</td>\n",
       "      <td>Yelp!</td>\n",
       "      <td>UNITED STATES</td>\n",
       "      <td>Zipcar</td>\n",
       "      <td>Station based</td>\n",
       "      <td>38749</td>\n",
       "      <td>5</td>\n",
       "      <td>Did you know you can make a zipcar reservation...</td>\n",
       "    </tr>\n",
       "    <tr>\n",
       "      <th>1</th>\n",
       "      <td>2</td>\n",
       "      <td>Yelp!</td>\n",
       "      <td>UNITED STATES</td>\n",
       "      <td>Zipcar</td>\n",
       "      <td>Station based</td>\n",
       "      <td>38749</td>\n",
       "      <td>5</td>\n",
       "      <td>I've been meaning to write up Zipcar for a whi...</td>\n",
       "    </tr>\n",
       "    <tr>\n",
       "      <th>2</th>\n",
       "      <td>3</td>\n",
       "      <td>Yelp!</td>\n",
       "      <td>UNITED STATES</td>\n",
       "      <td>Zipcar</td>\n",
       "      <td>Station based</td>\n",
       "      <td>38749</td>\n",
       "      <td>4</td>\n",
       "      <td>EDIT 2/21: After a slightly messy first Zipcar...</td>\n",
       "    </tr>\n",
       "    <tr>\n",
       "      <th>3</th>\n",
       "      <td>4</td>\n",
       "      <td>Yelp!</td>\n",
       "      <td>UNITED STATES</td>\n",
       "      <td>Zipcar</td>\n",
       "      <td>Station based</td>\n",
       "      <td>38749</td>\n",
       "      <td>5</td>\n",
       "      <td>I love Zipcar   I have be a pround member sinc...</td>\n",
       "    </tr>\n",
       "    <tr>\n",
       "      <th>4</th>\n",
       "      <td>5</td>\n",
       "      <td>Yelp!</td>\n",
       "      <td>UNITED STATES</td>\n",
       "      <td>Zipcar</td>\n",
       "      <td>Station based</td>\n",
       "      <td>38777</td>\n",
       "      <td>5</td>\n",
       "      <td>Flexcar is the answer for those of us that are...</td>\n",
       "    </tr>\n",
       "  </tbody>\n",
       "</table>\n",
       "</div>"
      ],
      "text/plain": [
       "   ID  Fonte         Country Provider           Type   Data  Rating  \\\n",
       "0   1  Yelp!  UNITED STATES    Zipcar  Station based  38749       5   \n",
       "1   2  Yelp!  UNITED STATES    Zipcar  Station based  38749       5   \n",
       "2   3  Yelp!  UNITED STATES    Zipcar  Station based  38749       4   \n",
       "3   4  Yelp!  UNITED STATES    Zipcar  Station based  38749       5   \n",
       "4   5  Yelp!  UNITED STATES    Zipcar  Station based  38777       5   \n",
       "\n",
       "                                              Review  \n",
       "0  Did you know you can make a zipcar reservation...  \n",
       "1  I've been meaning to write up Zipcar for a whi...  \n",
       "2  EDIT 2/21: After a slightly messy first Zipcar...  \n",
       "3  I love Zipcar   I have be a pround member sinc...  \n",
       "4  Flexcar is the answer for those of us that are...  "
      ]
     },
     "execution_count": 9,
     "metadata": {},
     "output_type": "execute_result"
    }
   ],
   "source": [
    "import pandas as pd\n",
    "\n",
    "df = pd.read_excel(DATA_PATH)\n",
    "df.head()"
   ]
  },
  {
   "cell_type": "code",
   "execution_count": 22,
   "id": "c228d92e-6ddf-4f9d-9e88-4b4ec6882e4e",
   "metadata": {},
   "outputs": [
    {
     "data": {
      "text/plain": [
       "11127"
      ]
     },
     "execution_count": 22,
     "metadata": {},
     "output_type": "execute_result"
    }
   ],
   "source": [
    "len(df)"
   ]
  },
  {
   "cell_type": "code",
   "execution_count": 27,
   "id": "fec68ef6-5223-43c5-9f13-4451be9c82a2",
   "metadata": {},
   "outputs": [
    {
     "data": {
      "text/html": [
       "<div>\n",
       "<style scoped>\n",
       "    .dataframe tbody tr th:only-of-type {\n",
       "        vertical-align: middle;\n",
       "    }\n",
       "\n",
       "    .dataframe tbody tr th {\n",
       "        vertical-align: top;\n",
       "    }\n",
       "\n",
       "    .dataframe thead th {\n",
       "        text-align: right;\n",
       "    }\n",
       "</style>\n",
       "<table border=\"1\" class=\"dataframe\">\n",
       "  <thead>\n",
       "    <tr style=\"text-align: right;\">\n",
       "      <th></th>\n",
       "      <th>ID</th>\n",
       "      <th>Source</th>\n",
       "      <th>Country</th>\n",
       "      <th>Provider</th>\n",
       "      <th>Type</th>\n",
       "      <th>Data</th>\n",
       "      <th>Rating</th>\n",
       "      <th>Review</th>\n",
       "    </tr>\n",
       "  </thead>\n",
       "  <tbody>\n",
       "    <tr>\n",
       "      <th>0</th>\n",
       "      <td>1</td>\n",
       "      <td>Yelp!</td>\n",
       "      <td>UNITED STATES</td>\n",
       "      <td>Zipcar</td>\n",
       "      <td>Station based</td>\n",
       "      <td>38749</td>\n",
       "      <td>5</td>\n",
       "      <td>Did you know you can make a zipcar reservation...</td>\n",
       "    </tr>\n",
       "    <tr>\n",
       "      <th>1</th>\n",
       "      <td>2</td>\n",
       "      <td>Yelp!</td>\n",
       "      <td>UNITED STATES</td>\n",
       "      <td>Zipcar</td>\n",
       "      <td>Station based</td>\n",
       "      <td>38749</td>\n",
       "      <td>5</td>\n",
       "      <td>I've been meaning to write up Zipcar for a whi...</td>\n",
       "    </tr>\n",
       "    <tr>\n",
       "      <th>2</th>\n",
       "      <td>3</td>\n",
       "      <td>Yelp!</td>\n",
       "      <td>UNITED STATES</td>\n",
       "      <td>Zipcar</td>\n",
       "      <td>Station based</td>\n",
       "      <td>38749</td>\n",
       "      <td>4</td>\n",
       "      <td>EDIT 2/21: After a slightly messy first Zipcar...</td>\n",
       "    </tr>\n",
       "    <tr>\n",
       "      <th>3</th>\n",
       "      <td>4</td>\n",
       "      <td>Yelp!</td>\n",
       "      <td>UNITED STATES</td>\n",
       "      <td>Zipcar</td>\n",
       "      <td>Station based</td>\n",
       "      <td>38749</td>\n",
       "      <td>5</td>\n",
       "      <td>I love Zipcar   I have be a pround member sinc...</td>\n",
       "    </tr>\n",
       "    <tr>\n",
       "      <th>4</th>\n",
       "      <td>5</td>\n",
       "      <td>Yelp!</td>\n",
       "      <td>UNITED STATES</td>\n",
       "      <td>Zipcar</td>\n",
       "      <td>Station based</td>\n",
       "      <td>38777</td>\n",
       "      <td>5</td>\n",
       "      <td>Flexcar is the answer for those of us that are...</td>\n",
       "    </tr>\n",
       "  </tbody>\n",
       "</table>\n",
       "</div>"
      ],
      "text/plain": [
       "   ID Source         Country Provider           Type   Data  Rating  \\\n",
       "0   1  Yelp!  UNITED STATES    Zipcar  Station based  38749       5   \n",
       "1   2  Yelp!  UNITED STATES    Zipcar  Station based  38749       5   \n",
       "2   3  Yelp!  UNITED STATES    Zipcar  Station based  38749       4   \n",
       "3   4  Yelp!  UNITED STATES    Zipcar  Station based  38749       5   \n",
       "4   5  Yelp!  UNITED STATES    Zipcar  Station based  38777       5   \n",
       "\n",
       "                                              Review  \n",
       "0  Did you know you can make a zipcar reservation...  \n",
       "1  I've been meaning to write up Zipcar for a whi...  \n",
       "2  EDIT 2/21: After a slightly messy first Zipcar...  \n",
       "3  I love Zipcar   I have be a pround member sinc...  \n",
       "4  Flexcar is the answer for those of us that are...  "
      ]
     },
     "execution_count": 27,
     "metadata": {},
     "output_type": "execute_result"
    }
   ],
   "source": [
    "# \"Fonte\" in Italian means \"Source\" in English.\n",
    "\n",
    "df = df.rename(columns={\"Fonte\": \"Source\"})\n",
    "df.head()"
   ]
  },
  {
   "cell_type": "code",
   "execution_count": 10,
   "id": "882e2bde-0916-4666-a656-d5080580751d",
   "metadata": {},
   "outputs": [
    {
     "data": {
      "text/plain": [
       "array(['Zipcar', 'Enterprice Car Share', 'Car2go', 'piccolo',\n",
       "       'GoGet CarShare', 'DriveNow', 'Hertz 24', 'Evo Car Share',\n",
       "       'Ubeeqo', 'Maven'], dtype=object)"
      ]
     },
     "execution_count": 10,
     "metadata": {},
     "output_type": "execute_result"
    }
   ],
   "source": [
    "df.Provider.unique()"
   ]
  },
  {
   "cell_type": "code",
   "execution_count": 11,
   "id": "26b26fcc-1995-499c-aab3-d78dcc92dc96",
   "metadata": {},
   "outputs": [
    {
     "data": {
      "text/plain": [
       "array(['Station based', 'Free floating', 'Mixed'], dtype=object)"
      ]
     },
     "execution_count": 11,
     "metadata": {},
     "output_type": "execute_result"
    }
   ],
   "source": [
    "df.Type.unique()"
   ]
  },
  {
   "cell_type": "code",
   "execution_count": 12,
   "id": "e06f57b2-e1c6-41c6-86d6-998841037715",
   "metadata": {},
   "outputs": [
    {
     "data": {
      "text/plain": [
       "array(['UNITED STATES ', 'CANADA', 'AUSTRALIA', 'Non specificata ', 'UK'],\n",
       "      dtype=object)"
      ]
     },
     "execution_count": 12,
     "metadata": {},
     "output_type": "execute_result"
    }
   ],
   "source": [
    "df.Country.unique()"
   ]
  },
  {
   "cell_type": "code",
   "execution_count": 13,
   "id": "cb83399b-be10-4025-8b3d-ff9a2efa41c6",
   "metadata": {},
   "outputs": [
    {
     "data": {
      "text/plain": [
       "array(['Yelp!', 'Playstore', 'Google', 'Trustpilot.com', 'Facebook'],\n",
       "      dtype=object)"
      ]
     },
     "execution_count": 13,
     "metadata": {},
     "output_type": "execute_result"
    }
   ],
   "source": [
    "df.Fonte.unique()"
   ]
  },
  {
   "cell_type": "code",
   "execution_count": 16,
   "id": "ba50e03a-7db7-4c73-ba5e-746fb24b54d6",
   "metadata": {},
   "outputs": [
    {
     "data": {
      "text/plain": [
       "Provider\n",
       "Car2go                  3003\n",
       "DriveNow                 599\n",
       "Enterprice Car Share     547\n",
       "Evo Car Share            585\n",
       "GoGet CarShare           252\n",
       "Hertz 24                 151\n",
       "Maven                    313\n",
       "Ubeeqo                   154\n",
       "Zipcar                  5259\n",
       "piccolo                  264\n",
       "Name: Provider, dtype: int64"
      ]
     },
     "execution_count": 16,
     "metadata": {},
     "output_type": "execute_result"
    }
   ],
   "source": [
    "df.groupby(\"Provider\").Provider.count()"
   ]
  }
 ],
 "metadata": {
  "kernelspec": {
   "display_name": "Python 3 (ipykernel)",
   "language": "python",
   "name": "python3"
  },
  "language_info": {
   "codemirror_mode": {
    "name": "ipython",
    "version": 3
   },
   "file_extension": ".py",
   "mimetype": "text/x-python",
   "name": "python",
   "nbconvert_exporter": "python",
   "pygments_lexer": "ipython3",
   "version": "3.11.4"
  }
 },
 "nbformat": 4,
 "nbformat_minor": 5
}
